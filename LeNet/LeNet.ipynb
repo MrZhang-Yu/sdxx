{
 "cells": [
  {
   "cell_type": "code",
   "execution_count": 5,
   "id": "8e397473",
   "metadata": {},
   "outputs": [],
   "source": [
    "import torch\n",
    "import torch.nn as nn\n",
    "import torch.nn.functional as F\n",
    "import torchvision\n",
    "import torch.nn as nn\n",
    "import torch.optim as optim\n",
    "import torchvision.transforms as transforms\n",
    "from PIL import Image"
   ]
  },
  {
   "cell_type": "markdown",
   "id": "76d71156",
   "metadata": {},
   "source": [
    "## 经卷积后的矩阵尺寸大小计算公式为：\n",
    "## N = (W - F + 2P) / S + 1\n",
    "## 输入图片大小W*W\n",
    "## Filter大小F*F\n",
    "## 步长S\n",
    "## Padding像素P"
   ]
  },
  {
   "cell_type": "markdown",
   "id": "a90ea55a",
   "metadata": {},
   "source": [
    "## PyTorch Tensor的通道排序：[batch, channel, height, width]"
   ]
  },
  {
   "cell_type": "code",
   "execution_count": 6,
   "id": "fb034851",
   "metadata": {},
   "outputs": [],
   "source": [
    "class LeNet(nn.Module):\n",
    "    def __init__(self):#网络层\n",
    "        super(LeNet, self).__init__()#解决多继承的问题\n",
    "        self.conv1 = nn.Conv2d(1, 6, 5)\n",
    "        self.pool1 = nn.MaxPool2d(2, 2)\n",
    "        self.conv2 = nn.Conv2d(6, 16, 5)\n",
    "        self.pool2 = nn.MaxPool2d(2, 2)\n",
    "        self.fc1 = nn.Linear(16*4*4, 120)\n",
    "        self.fc2 = nn.Linear(120, 84)\n",
    "        self.fc3 = nn.Linear(84, 10)#最后的10代表有多少分类\n",
    "    def forward(self, x):\n",
    "        x = F.relu(self.conv1(x))    # input(1, 28, 28) output(6, 24, 24)\n",
    "        x = self.pool1(x)            # output(6, 12, 12)\n",
    "        x = F.relu(self.conv2(x))    # output(16, 8, 8)\n",
    "        x = self.pool2(x)            # output(16, 4, 4)\n",
    "        x = x.view(-1, 16*4*4)       # output(16*4*4)\n",
    "        x = F.relu(self.fc1(x))      # output(120)\n",
    "        x = F.relu(self.fc2(x))      # output(84)\n",
    "        x = self.fc3(x)              # output(10)\n",
    "        return x        "
   ]
  },
  {
   "cell_type": "code",
   "execution_count": 7,
   "id": "74fe057e",
   "metadata": {},
   "outputs": [
    {
     "name": "stdout",
     "output_type": "stream",
     "text": [
      "LeNet(\n",
      "  (conv1): Conv2d(1, 6, kernel_size=(5, 5), stride=(1, 1))\n",
      "  (pool1): MaxPool2d(kernel_size=2, stride=2, padding=0, dilation=1, ceil_mode=False)\n",
      "  (conv2): Conv2d(6, 16, kernel_size=(5, 5), stride=(1, 1))\n",
      "  (pool2): MaxPool2d(kernel_size=2, stride=2, padding=0, dilation=1, ceil_mode=False)\n",
      "  (fc1): Linear(in_features=256, out_features=120, bias=True)\n",
      "  (fc2): Linear(in_features=120, out_features=84, bias=True)\n",
      "  (fc3): Linear(in_features=84, out_features=10, bias=True)\n",
      ")\n"
     ]
    }
   ],
   "source": [
    "model = LeNet()\n",
    "print(model)"
   ]
  },
  {
   "cell_type": "code",
   "execution_count": 8,
   "id": "6202cb04",
   "metadata": {},
   "outputs": [],
   "source": [
    "transform = transforms.Compose([transforms.ToTensor(),transforms.Normalize(0.5, 0.5)])\n",
    "#transfrom对图像预处理，normalize标准化\n",
    "#训练集\n",
    "train_set = torchvision.datasets.MNIST(root='./mnist', train=True, download=False, transform=transform)#第一次运行时要download=Ture，下载完数据再换成False\n",
    "train_loader = torch.utils.data.DataLoader(train_set, batch_size=36,shuffle=True, num_workers=0)\n",
    "#train_loader导入train_set下载的数据集，一次处理36张图片"
   ]
  },
  {
   "cell_type": "code",
   "execution_count": 13,
   "id": "b206b6de",
   "metadata": {},
   "outputs": [],
   "source": [
    "#测试集\n",
    "val_set = torchvision.datasets.MNIST(root='./mnist', train=False, download=False, transform=transform)\n",
    "val_loader = torch.utils.data.DataLoader(val_set, batch_size=1000,shuffle=False, num_workers=0)\n",
    "\n",
    "val_data_iter = iter(val_loader)#迭代器\n",
    "val_image, val_label = val_data_iter.next()#获取到图片及其对应的标签"
   ]
  },
  {
   "cell_type": "code",
   "execution_count": 14,
   "id": "e007334b",
   "metadata": {},
   "outputs": [],
   "source": [
    "classes = [\n",
    "    \"0 - zero\",\n",
    "    \"1 - one\",\n",
    "    \"2 - two\",\n",
    "    \"3 - three\",\n",
    "    \"4 - four\",\n",
    "    \"5 - five\",\n",
    "    \"6 - six\",\n",
    "    \"7 - seven\",\n",
    "    \"8 - eight\",\n",
    "    \"9 - nine\",\n",
    "]"
   ]
  },
  {
   "cell_type": "code",
   "execution_count": 15,
   "id": "92bb0fe6",
   "metadata": {},
   "outputs": [],
   "source": [
    "import matplotlib.pyplot as plt  #运行这一块先把val_loader的batch_size换成5，训练模型时要换回来\n",
    "import numpy as np\n",
    "def imshow(img):\n",
    "    img = img / 2 + 0.5\n",
    "    nping = img.numpy()\n",
    "    plt.imshow(np.transpose(nping, (1, 2, 0)))\n",
    "    plt.show()"
   ]
  },
  {
   "cell_type": "code",
   "execution_count": 16,
   "id": "442457fa",
   "metadata": {},
   "outputs": [
    {
     "name": "stdout",
     "output_type": "stream",
     "text": [
      "7 - seven 2 - two 1 - one 0 - zero 4 - four\n"
     ]
    },
    {
     "data": {
      "image/png": "[encoded data removed]",
      "text/plain": [
       "<Figure size 432x288 with 1 Axes>"
      ]
     },
     "metadata": {
      "needs_background": "light"
     },
     "output_type": "display_data"
    }
   ],
   "source": [
    "print(' '.join(f'{classes[val_label[j]]:5s}' for j in range(5)))\n",
    "imshow(torchvision.utils.make_grid(val_image))"
   ]
  },
  {
   "cell_type": "code",
   "execution_count": 99,
   "id": "5d112de0",
   "metadata": {},
   "outputs": [],
   "source": [
    "net = LeNet()#实例化模型\n",
    "loss_function = nn.CrossEntropyLoss()#损失函数\n",
    "optimizer = optim.Adam(net.parameters(), lr=0.001)#优化器，第一个参数为net的参数，第二个参数学习率"
   ]
  },
  {
   "cell_type": "code",
   "execution_count": 100,
   "id": "cf06b4b2",
   "metadata": {},
   "outputs": [
    {
     "name": "stdout",
     "output_type": "stream",
     "text": [
      "[1,   500] train_loss: 0.407  test_accuracy: 0.945\n",
      "[1,  1000] train_loss: 0.122  test_accuracy: 0.961\n",
      "[1,  1500] train_loss: 0.091  test_accuracy: 0.969\n",
      "[2,   500] train_loss: 0.067  test_accuracy: 0.972\n",
      "[2,  1000] train_loss: 0.059  test_accuracy: 0.978\n",
      "[2,  1500] train_loss: 0.058  test_accuracy: 0.979\n",
      "[3,   500] train_loss: 0.048  test_accuracy: 0.978\n",
      "[3,  1000] train_loss: 0.042  test_accuracy: 0.983\n",
      "[3,  1500] train_loss: 0.043  test_accuracy: 0.979\n",
      "[4,   500] train_loss: 0.033  test_accuracy: 0.984\n",
      "[4,  1000] train_loss: 0.039  test_accuracy: 0.978\n",
      "[4,  1500] train_loss: 0.036  test_accuracy: 0.985\n",
      "[5,   500] train_loss: 0.026  test_accuracy: 0.986\n",
      "[5,  1000] train_loss: 0.028  test_accuracy: 0.981\n",
      "[5,  1500] train_loss: 0.031  test_accuracy: 0.982\n",
      "Finished Training\n"
     ]
    }
   ],
   "source": [
    "    for epoch in range(5):  #训练集迭代5次\n",
    "        running_loss = 0.0#累加训练中的损失\n",
    "        for step, data in enumerate(train_loader, start=0):#enumerate 返回训练集中的步数，和数据索引\n",
    "            inputs, labels = data #输入的图像、标签\n",
    "            optimizer.zero_grad()#清除历史梯度，可以实现大的batch\n",
    "            outputs = net(inputs)\n",
    "            loss = loss_function(outputs, labels)\n",
    "            loss.backward()\n",
    "            optimizer.step()#优化器参数更新\n",
    "\n",
    "            running_loss += loss.item()#累加到\n",
    "            if step % 500 == 499:#每500步打印\n",
    "                with torch.no_grad():#测试的时候冻结参数\n",
    "                    outputs = net(val_image)  \n",
    "                    predict_y = torch.max(outputs, dim=1)[1]#查找最大的输出索引，1只需索引，不需要具体值，返回预测类别\n",
    "                    accuracy = torch.eq(predict_y, val_label).sum().item() / val_label.size(0)\n",
    "                    #真值和测试值比较求和别上测试样本数目\n",
    "                    print('[%d, %5d] train_loss: %.3f  test_accuracy: %.3f' %\n",
    "                          (epoch + 1, step + 1, running_loss / 500, accuracy))#500因为每500打印一次\n",
    "                    running_loss = 0.0#清零准备下次迭代\n",
    "\n",
    "    print('Finished Training')\n",
    "\n",
    "    save_path = './JLenet.pth'\n",
    "    torch.save(net.state_dict(), save_path)"
   ]
  },
  {
   "cell_type": "code",
   "execution_count": 17,
   "id": "f154d627",
   "metadata": {},
   "outputs": [],
   "source": [
    "transform = transforms.Compose([transforms.Resize((28, 28)),transforms.ToTensor(),\n",
    "                                transforms.Normalize((0.5), (0.5))])"
   ]
  },
  {
   "cell_type": "code",
   "execution_count": 29,
   "id": "798dce6f",
   "metadata": {},
   "outputs": [
    {
     "name": "stdout",
     "output_type": "stream",
     "text": [
      "[2]\n",
      "2 - two\n"
     ]
    },
    {
     "data": {
      "image/png": "[encoded data removed]",
      "text/plain": [
       "<Figure size 432x288 with 1 Axes>"
      ]
     },
     "metadata": {
      "needs_background": "light"
     },
     "output_type": "display_data"
    }
   ],
   "source": [
    "net = LeNet()\n",
    "net.load_state_dict(torch.load('JLenet.pth'))\n",
    "im = Image.open('./h2.png')\n",
    "im = im.convert('L')\n",
    "plt.imshow(im)\n",
    "im = transform(im)  # [C, H, W]\n",
    "im = torch.unsqueeze(im, dim=0)  # [N, C, H, W]\n",
    "with torch.no_grad():\n",
    "    outputs = net(im)\n",
    "    predict = torch.max(outputs, dim=1)[1].numpy()\n",
    "    print(predict)\n",
    "#    predict = torch.softmax(outputs,dim=1)    \n",
    "print(classes[int(predict)])\n",
    "#     print(predict)"
   ]
  },
  {
   "cell_type": "code",
   "execution_count": null,
   "id": "3d03c11d",
   "metadata": {},
   "outputs": [],
   "source": []
  }
 ],
 "metadata": {
  "kernelspec": {
   "display_name": "sdxx",
   "language": "python",
   "name": "sdxx"
  },
  "language_info": {
   "codemirror_mode": {
    "name": "ipython",
    "version": 3
   },
   "file_extension": ".py",
   "mimetype": "text/x-python",
   "name": "python",
   "nbconvert_exporter": "python",
   "pygments_lexer": "ipython3",
   "version": "3.6.13"
  }
 },
 "nbformat": 4,
 "nbformat_minor": 5
}
