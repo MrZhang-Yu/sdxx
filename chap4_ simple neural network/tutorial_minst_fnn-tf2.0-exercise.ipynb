{
 "cells": [
  {
   "cell_type": "markdown",
   "id": "3dcb2171",
   "metadata": {},
   "source": [
    "## 准备数据"
   ]
  },
  {
   "cell_type": "code",
   "execution_count": 22,
   "id": "52cb81ec",
   "metadata": {},
   "outputs": [],
   "source": [
    "import os\n",
    "import numpy as np\n",
    "import tensorflow as tf\n",
    "from tensorflow import keras\n",
    "from tensorflow.keras import layers, optimizers, datasets\n",
    "\n",
    "os.environ['TF_CPP_MIN_LOG_LEVEL'] = '2'  # or any {'0', '1', '2'}\n",
    "\n",
    "def mnist_dataset():\n",
    "    (x, y), (x_test, y_test) = datasets.mnist.load_data()\n",
    "    #normalize\n",
    "    x = x/255.0\n",
    "    x_test = x_test/255.0\n",
    "    \n",
    "    return (x, y), (x_test, y_test)"
   ]
  },
  {
   "cell_type": "code",
   "execution_count": 23,
   "id": "a7d66d73",
   "metadata": {},
   "outputs": [
    {
     "name": "stdout",
     "output_type": "stream",
     "text": [
      "[(1, 'a'), (2, 'b'), (3, 'c'), (4, 'd')]\n"
     ]
    }
   ],
   "source": [
    "print(list(zip([1, 2, 3, 4], ['a', 'b', 'c', 'd'])))"
   ]
  },
  {
   "cell_type": "markdown",
   "id": "4415256b",
   "metadata": {},
   "source": [
    "## 建立模型"
   ]
  },
  {
   "cell_type": "code",
   "execution_count": 24,
   "id": "196b13db",
   "metadata": {},
   "outputs": [],
   "source": [
    "class myModel:\n",
    "    def __init__(self):\n",
    "        self.W1 = tf.Variable(shape=[784, 1000], dtype=tf.float32,initial_value=tf.random.uniform(shape=[784, 1000],minval=-0.1, maxval=0.1))\n",
    "        self.b1 = tf.Variable(shape=[1,1000], dtype=tf.float32, initial_value=tf.random.uniform(shape=[1, 1000],minval=-0.1, maxval=0.1))\n",
    "        self.W2 = tf.Variable(shape=[1000, 666], dtype=tf.float32, initial_value=tf.random.uniform(shape=[1000, 666],minval=-0.1, maxval=0.1))\n",
    "        self.b2 = tf.Variable(shape=[1,666], dtype=tf.float32, initial_value=tf.random.uniform(shape=[1, 666],minval=-0.1, maxval=0.1))\n",
    "    def __call__(self, x):\n",
    "        flat_x = tf.reshape(x, shape=[-1, 28*28])\n",
    "        h1 = tf.tanh(tf.matmul(flat_x, self.W1) + self.b1)\n",
    "        logits = tf.matmul(h1, self.W2) + self.b2\n",
    "        return logits\n",
    "        \n",
    "model = myModel()\n",
    "optimizer = optimizers.Adam()"
   ]
  },
  {
   "cell_type": "markdown",
   "id": "33dacfe6",
   "metadata": {},
   "source": [
    "## 计算loss"
   ]
  },
  {
   "cell_type": "code",
   "execution_count": 25,
   "id": "951fa25f",
   "metadata": {},
   "outputs": [],
   "source": [
    "@tf.function\n",
    "def compute_loss(logits, labels):\n",
    "    return tf.reduce_mean(\n",
    "        tf.nn.sparse_softmax_cross_entropy_with_logits(\n",
    "            logits=logits, labels=labels))\n",
    "\n",
    "@tf.function\n",
    "def compute_accuracy(logits, labels):\n",
    "    predictions = tf.argmax(logits, axis=1)\n",
    "    return tf.reduce_mean(tf.cast(tf.equal(predictions, labels), tf.float32))\n",
    "\n",
    "@tf.function\n",
    "def train_one_step(model, optimizer, x, y):\n",
    "    with tf.GradientTape() as tape:\n",
    "        logits = model(x)\n",
    "        loss = compute_loss(logits, y)\n",
    "\n",
    "    # compute gradient\n",
    "    trainable_vars = [model.W1, model.W2, model.b1, model.b2]\n",
    "    grads = tape.gradient(loss, trainable_vars)\n",
    "    for g, v in zip(grads, trainable_vars):\n",
    "        v.assign_sub(0.01*g)\n",
    "\n",
    "    accuracy = compute_accuracy(logits, y)\n",
    "\n",
    "    # loss and accuracy is scalar tensor\n",
    "    return loss, accuracy\n",
    "\n",
    "@tf.function\n",
    "def test(model, x, y):\n",
    "    logits = model(x)\n",
    "    loss = compute_loss(logits, y)\n",
    "    accuracy = compute_accuracy(logits, y)\n",
    "    return loss, accuracy"
   ]
  },
  {
   "cell_type": "markdown",
   "id": "e81df2cc",
   "metadata": {},
   "source": [
    "## 实际训练"
   ]
  },
  {
   "cell_type": "code",
   "execution_count": 26,
   "id": "d3263ff1",
   "metadata": {},
   "outputs": [
    {
     "name": "stdout",
     "output_type": "stream",
     "text": [
      "epoch 0 : loss 7.002171 ; accuracy 0.00086666667\n",
      "epoch 1 : loss 6.798895 ; accuracy 0.0018833333\n",
      "epoch 2 : loss 6.59662 ; accuracy 0.0042\n",
      "epoch 3 : loss 6.3953958 ; accuracy 0.009333333\n",
      "epoch 4 : loss 6.1952915 ; accuracy 0.01765\n",
      "epoch 5 : loss 5.996405 ; accuracy 0.030016666\n",
      "epoch 6 : loss 5.7988605 ; accuracy 0.047533333\n",
      "epoch 7 : loss 5.602823 ; accuracy 0.07106667\n",
      "epoch 8 : loss 5.408492 ; accuracy 0.10081667\n",
      "epoch 9 : loss 5.2161155 ; accuracy 0.13521667\n",
      "epoch 10 : loss 5.0259852 ; accuracy 0.17626667\n",
      "epoch 11 : loss 4.838447 ; accuracy 0.21551667\n",
      "epoch 12 : loss 4.653892 ; accuracy 0.25418332\n",
      "epoch 13 : loss 4.472766 ; accuracy 0.28823334\n",
      "epoch 14 : loss 4.2955503 ; accuracy 0.31906667\n",
      "epoch 15 : loss 4.122766 ; accuracy 0.3456\n",
      "epoch 16 : loss 3.9549453 ; accuracy 0.37066665\n",
      "epoch 17 : loss 3.7926207 ; accuracy 0.39481667\n",
      "epoch 18 : loss 3.6362975 ; accuracy 0.41756666\n",
      "epoch 19 : loss 3.4864275 ; accuracy 0.44048333\n",
      "epoch 20 : loss 3.3433876 ; accuracy 0.46223333\n",
      "epoch 21 : loss 3.2074513 ; accuracy 0.48401666\n",
      "epoch 22 : loss 3.0787818 ; accuracy 0.5053167\n",
      "epoch 23 : loss 2.9574215 ; accuracy 0.524\n",
      "epoch 24 : loss 2.843302 ; accuracy 0.54176664\n",
      "epoch 25 : loss 2.736252 ; accuracy 0.5589833\n",
      "epoch 26 : loss 2.6360226 ; accuracy 0.57423335\n",
      "epoch 27 : loss 2.5423028 ; accuracy 0.5876833\n",
      "epoch 28 : loss 2.454744 ; accuracy 0.5993\n",
      "epoch 29 : loss 2.372976 ; accuracy 0.60966665\n",
      "epoch 30 : loss 2.2966216 ; accuracy 0.6192\n",
      "epoch 31 : loss 2.2253084 ; accuracy 0.6274667\n",
      "epoch 32 : loss 2.1586742 ; accuracy 0.63598335\n",
      "epoch 33 : loss 2.096375 ; accuracy 0.64308333\n",
      "epoch 34 : loss 2.0380847 ; accuracy 0.6494333\n",
      "epoch 35 : loss 1.9834985 ; accuracy 0.65526664\n",
      "epoch 36 : loss 1.932333 ; accuracy 0.66205\n",
      "epoch 37 : loss 1.8843248 ; accuracy 0.6674167\n",
      "epoch 38 : loss 1.8392304 ; accuracy 0.67263335\n",
      "epoch 39 : loss 1.7968258 ; accuracy 0.67765\n",
      "epoch 40 : loss 1.7569034 ; accuracy 0.68223333\n",
      "epoch 41 : loss 1.7192739 ; accuracy 0.68675\n",
      "epoch 42 : loss 1.6837621 ; accuracy 0.69026667\n",
      "epoch 43 : loss 1.6502073 ; accuracy 0.69416666\n",
      "epoch 44 : loss 1.6184629 ; accuracy 0.69813335\n",
      "epoch 45 : loss 1.5883934 ; accuracy 0.70155\n",
      "epoch 46 : loss 1.5598752 ; accuracy 0.70491666\n",
      "epoch 47 : loss 1.5327958 ; accuracy 0.70806664\n",
      "epoch 48 : loss 1.507051 ; accuracy 0.7112167\n",
      "epoch 49 : loss 1.4825463 ; accuracy 0.71393335\n",
      "test loss 1.4167506 ; accuracy 0.7242\n"
     ]
    }
   ],
   "source": [
    "train_data, test_data = mnist_dataset()\n",
    "for epoch in range(50):\n",
    "    loss, accuracy = train_one_step(model, optimizer, tf.constant(train_data[0], dtype=tf.float32), tf.constant(train_data[1], dtype=tf.int64))\n",
    "    print('epoch', epoch, ': loss', loss.numpy(), '; accuracy', accuracy.numpy())\n",
    "loss, accuracy = test(model, tf.constant(test_data[0], dtype=tf.float32), tf.constant(test_data[1], dtype=tf.int64))\n",
    "print('test loss', loss.numpy(), '; accuracy', accuracy.numpy())"
   ]
  },
  {
   "cell_type": "code",
   "execution_count": null,
   "id": "09b8e2fb",
   "metadata": {},
   "outputs": [],
   "source": []
  }
 ],
 "metadata": {
  "kernelspec": {
   "display_name": "sdxx",
   "language": "python",
   "name": "sdxx"
  },
  "language_info": {
   "codemirror_mode": {
    "name": "ipython",
    "version": 3
   },
   "file_extension": ".py",
   "mimetype": "text/x-python",
   "name": "python",
   "nbconvert_exporter": "python",
   "pygments_lexer": "ipython3",
   "version": "3.6.13"
  }
 },
 "nbformat": 4,
 "nbformat_minor": 5
}
